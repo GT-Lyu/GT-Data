{
 "cells": [
  {
   "cell_type": "code",
   "execution_count": 1,
   "id": "b28afec5",
   "metadata": {
    "_cell_guid": "b1076dfc-b9ad-4769-8c92-a6c4dae69d19",
    "_uuid": "8f2839f25d086af736a60e9eeb907d3b93b6e0e5",
    "execution": {
     "iopub.execute_input": "2024-03-15T06:46:14.912566Z",
     "iopub.status.busy": "2024-03-15T06:46:14.912132Z",
     "iopub.status.idle": "2024-03-15T06:46:15.861669Z",
     "shell.execute_reply": "2024-03-15T06:46:15.860541Z"
    },
    "papermill": {
     "duration": 0.961209,
     "end_time": "2024-03-15T06:46:15.863914",
     "exception": false,
     "start_time": "2024-03-15T06:46:14.902705",
     "status": "completed"
    },
    "tags": []
   },
   "outputs": [
    {
     "name": "stdout",
     "output_type": "stream",
     "text": [
      "/kaggle/input/data-science-day1-titanic/DSB_Day1_Titanic_train.csv\n"
     ]
    }
   ],
   "source": [
    "# This Python 3 environment comes with many helpful analytics libraries installed\n",
    "# It is defined by the kaggle/python Docker image: https://github.com/kaggle/docker-python\n",
    "# For example, here's several helpful packages to load\n",
    "\n",
    "import numpy as np # linear algebra\n",
    "import pandas as pd # data processing, CSV file I/O (e.g. pd.read_csv)\n",
    "\n",
    "# Input data files are available in the read-only \"../input/\" directory\n",
    "# For example, running this (by clicking run or pressing Shift+Enter) will list all files under the input directory\n",
    "\n",
    "import os\n",
    "for dirname, _, filenames in os.walk('/kaggle/input'):\n",
    "    for filename in filenames:\n",
    "        print(os.path.join(dirname, filename))\n",
    "\n",
    "# You can write up to 20GB to the current directory (/kaggle/working/) that gets preserved as output when you create a version using \"Save & Run All\" \n",
    "# You can also write temporary files to /kaggle/temp/, but they won't be saved outside of the current session"
   ]
  },
  {
   "cell_type": "markdown",
   "id": "30afff6b",
   "metadata": {
    "papermill": {
     "duration": 0.006282,
     "end_time": "2024-03-15T06:46:15.876930",
     "exception": false,
     "start_time": "2024-03-15T06:46:15.870648",
     "status": "completed"
    },
    "tags": []
   },
   "source": [
    "# python基础内容教学  \n",
    "python基本数据类型：[菜鸟教程：数据类型](https://www.runoob.com/python3/python3-data-type.html)\n",
    "\n"
   ]
  },
  {
   "cell_type": "markdown",
   "id": "c8c638f5",
   "metadata": {
    "papermill": {
     "duration": 0.006259,
     "end_time": "2024-03-15T06:46:15.889732",
     "exception": false,
     "start_time": "2024-03-15T06:46:15.883473",
     "status": "completed"
    },
    "tags": []
   },
   "source": [
    "# Kaggle 基本使用  \n",
    "kaggle 账号登录与注册  \n",
    "kaggle 学习与练习  \n",
    "kaggle 数据的下载与加载  \n"
   ]
  },
  {
   "cell_type": "markdown",
   "id": "ab0b97bc",
   "metadata": {
    "papermill": {
     "duration": 0.006367,
     "end_time": "2024-03-15T06:46:15.902615",
     "exception": false,
     "start_time": "2024-03-15T06:46:15.896248",
     "status": "completed"
    },
    "tags": []
   },
   "source": [
    "# Python pandas教学  \n",
    "pandas基本数据结构：Series,DataFrame。  \n",
    "pandas Series的常用函数，以及Series在DataFrame中的作用  \n",
    "pandas DataFrame的数据结构特点，创建，数据类型的转变，索引，切片，数据操作  \n",
    "pandas 读取csv文件  \n",
    "pandas DataFrame数据清洗的常用函数以及用法，数据拼接  "
   ]
  },
  {
   "cell_type": "code",
   "execution_count": 2,
   "id": "a055f6a4",
   "metadata": {
    "execution": {
     "iopub.execute_input": "2024-03-15T06:46:15.918082Z",
     "iopub.status.busy": "2024-03-15T06:46:15.917261Z",
     "iopub.status.idle": "2024-03-15T06:46:15.921642Z",
     "shell.execute_reply": "2024-03-15T06:46:15.920791Z"
    },
    "papermill": {
     "duration": 0.01454,
     "end_time": "2024-03-15T06:46:15.923744",
     "exception": false,
     "start_time": "2024-03-15T06:46:15.909204",
     "status": "completed"
    },
    "tags": []
   },
   "outputs": [],
   "source": [
    "import pandas as pd \n",
    "import numpy as np"
   ]
  },
  {
   "cell_type": "code",
   "execution_count": 3,
   "id": "306b786a",
   "metadata": {
    "execution": {
     "iopub.execute_input": "2024-03-15T06:46:15.938907Z",
     "iopub.status.busy": "2024-03-15T06:46:15.938505Z",
     "iopub.status.idle": "2024-03-15T06:46:15.968555Z",
     "shell.execute_reply": "2024-03-15T06:46:15.967473Z"
    },
    "papermill": {
     "duration": 0.040404,
     "end_time": "2024-03-15T06:46:15.970878",
     "exception": false,
     "start_time": "2024-03-15T06:46:15.930474",
     "status": "completed"
    },
    "tags": []
   },
   "outputs": [
    {
     "name": "stdout",
     "output_type": "stream",
     "text": [
      "     name    couse\n",
      "0    mike  English\n",
      "1  julily  Chinese\n",
      "     name    couse\n",
      "0    mike  English\n",
      "1  julily  Chinese\n"
     ]
    }
   ],
   "source": [
    "#数据加载\n",
    "df = pd.read_csv(r\"/kaggle/input/data-science-day1-titanic/DSB_Day1_Titanic_train.csv\")\n",
    "#DataFrame的创建：分别使用字典以及数组的方式创建DataFrame\n",
    "df_1 = pd.DataFrame({'name':['mike','julily'],'couse':['English','Chinese']})\n",
    "df_2 = pd.DataFrame(np.array([['mike','English'],['julily','Chinese']]),columns = ['name','couse'])\n",
    "print(df_1)\n",
    "print(df_2)"
   ]
  },
  {
   "cell_type": "code",
   "execution_count": 4,
   "id": "9e4bb218",
   "metadata": {
    "execution": {
     "iopub.execute_input": "2024-03-15T06:46:15.986928Z",
     "iopub.status.busy": "2024-03-15T06:46:15.986249Z",
     "iopub.status.idle": "2024-03-15T06:46:15.990101Z",
     "shell.execute_reply": "2024-03-15T06:46:15.989277Z"
    },
    "papermill": {
     "duration": 0.013947,
     "end_time": "2024-03-15T06:46:15.992067",
     "exception": false,
     "start_time": "2024-03-15T06:46:15.978120",
     "status": "completed"
    },
    "tags": []
   },
   "outputs": [],
   "source": [
    "#查看泰坦尼克号的数据\n",
    "#df.head(5)#查看前五行数据\n",
    "#df.tail(5)#查看后五行数据\n",
    "#df.sample(5)#随机查看五行数据"
   ]
  },
  {
   "cell_type": "markdown",
   "id": "e328fd83",
   "metadata": {
    "papermill": {
     "duration": 0.006488,
     "end_time": "2024-03-15T06:46:16.005422",
     "exception": false,
     "start_time": "2024-03-15T06:46:15.998934",
     "status": "completed"
    },
    "tags": []
   },
   "source": []
  },
  {
   "cell_type": "code",
   "execution_count": 5,
   "id": "46c56fcb",
   "metadata": {
    "execution": {
     "iopub.execute_input": "2024-03-15T06:46:16.020893Z",
     "iopub.status.busy": "2024-03-15T06:46:16.019798Z",
     "iopub.status.idle": "2024-03-15T06:46:16.024532Z",
     "shell.execute_reply": "2024-03-15T06:46:16.023736Z"
    },
    "papermill": {
     "duration": 0.014656,
     "end_time": "2024-03-15T06:46:16.026748",
     "exception": false,
     "start_time": "2024-03-15T06:46:16.012092",
     "status": "completed"
    },
    "tags": []
   },
   "outputs": [],
   "source": [
    "#获得数据结构\n",
    "#df.shape\n",
    "#获得数据的大小\n",
    "#df.size#即数据的行与列的个数相乘，包括了np.nan\n",
    "#显示所有数据的类型、索引情况、行列数、各字段数据类型、内存占用等。\n",
    "#df.info()\n",
    "#获取数据类型\n",
    "#df.dtypes\n",
    "#获取数据的列名,可转化为列表的形式\n",
    "#df.columns\n",
    "#获取数据的索引，可转化为列表的形式\n",
    "#df.index\n"
   ]
  },
  {
   "cell_type": "code",
   "execution_count": 6,
   "id": "72ea39d7",
   "metadata": {
    "execution": {
     "iopub.execute_input": "2024-03-15T06:46:16.042134Z",
     "iopub.status.busy": "2024-03-15T06:46:16.041719Z",
     "iopub.status.idle": "2024-03-15T06:46:16.082860Z",
     "shell.execute_reply": "2024-03-15T06:46:16.081688Z"
    },
    "papermill": {
     "duration": 0.051951,
     "end_time": "2024-03-15T06:46:16.085522",
     "exception": false,
     "start_time": "2024-03-15T06:46:16.033571",
     "status": "completed"
    },
    "tags": []
   },
   "outputs": [
    {
     "data": {
      "text/html": [
       "<div>\n",
       "<style scoped>\n",
       "    .dataframe tbody tr th:only-of-type {\n",
       "        vertical-align: middle;\n",
       "    }\n",
       "\n",
       "    .dataframe tbody tr th {\n",
       "        vertical-align: top;\n",
       "    }\n",
       "\n",
       "    .dataframe thead th {\n",
       "        text-align: right;\n",
       "    }\n",
       "</style>\n",
       "<table border=\"1\" class=\"dataframe\">\n",
       "  <thead>\n",
       "    <tr style=\"text-align: right;\">\n",
       "      <th></th>\n",
       "      <th>PassengerId</th>\n",
       "      <th>Survived</th>\n",
       "      <th>Pclass</th>\n",
       "      <th>Age</th>\n",
       "      <th>SibSp</th>\n",
       "      <th>Parch</th>\n",
       "      <th>Fare</th>\n",
       "    </tr>\n",
       "  </thead>\n",
       "  <tbody>\n",
       "    <tr>\n",
       "      <th>count</th>\n",
       "      <td>891.000000</td>\n",
       "      <td>891.000000</td>\n",
       "      <td>891.000000</td>\n",
       "      <td>714.000000</td>\n",
       "      <td>891.000000</td>\n",
       "      <td>891.000000</td>\n",
       "      <td>891.000000</td>\n",
       "    </tr>\n",
       "    <tr>\n",
       "      <th>mean</th>\n",
       "      <td>446.000000</td>\n",
       "      <td>0.383838</td>\n",
       "      <td>2.308642</td>\n",
       "      <td>29.699118</td>\n",
       "      <td>0.523008</td>\n",
       "      <td>0.381594</td>\n",
       "      <td>32.204208</td>\n",
       "    </tr>\n",
       "    <tr>\n",
       "      <th>std</th>\n",
       "      <td>257.353842</td>\n",
       "      <td>0.486592</td>\n",
       "      <td>0.836071</td>\n",
       "      <td>14.526497</td>\n",
       "      <td>1.102743</td>\n",
       "      <td>0.806057</td>\n",
       "      <td>49.693429</td>\n",
       "    </tr>\n",
       "    <tr>\n",
       "      <th>min</th>\n",
       "      <td>1.000000</td>\n",
       "      <td>0.000000</td>\n",
       "      <td>1.000000</td>\n",
       "      <td>0.420000</td>\n",
       "      <td>0.000000</td>\n",
       "      <td>0.000000</td>\n",
       "      <td>0.000000</td>\n",
       "    </tr>\n",
       "    <tr>\n",
       "      <th>25%</th>\n",
       "      <td>223.500000</td>\n",
       "      <td>0.000000</td>\n",
       "      <td>2.000000</td>\n",
       "      <td>20.125000</td>\n",
       "      <td>0.000000</td>\n",
       "      <td>0.000000</td>\n",
       "      <td>7.910400</td>\n",
       "    </tr>\n",
       "    <tr>\n",
       "      <th>50%</th>\n",
       "      <td>446.000000</td>\n",
       "      <td>0.000000</td>\n",
       "      <td>3.000000</td>\n",
       "      <td>28.000000</td>\n",
       "      <td>0.000000</td>\n",
       "      <td>0.000000</td>\n",
       "      <td>14.454200</td>\n",
       "    </tr>\n",
       "    <tr>\n",
       "      <th>75%</th>\n",
       "      <td>668.500000</td>\n",
       "      <td>1.000000</td>\n",
       "      <td>3.000000</td>\n",
       "      <td>38.000000</td>\n",
       "      <td>1.000000</td>\n",
       "      <td>0.000000</td>\n",
       "      <td>31.000000</td>\n",
       "    </tr>\n",
       "    <tr>\n",
       "      <th>max</th>\n",
       "      <td>891.000000</td>\n",
       "      <td>1.000000</td>\n",
       "      <td>3.000000</td>\n",
       "      <td>80.000000</td>\n",
       "      <td>8.000000</td>\n",
       "      <td>6.000000</td>\n",
       "      <td>512.329200</td>\n",
       "    </tr>\n",
       "  </tbody>\n",
       "</table>\n",
       "</div>"
      ],
      "text/plain": [
       "       PassengerId    Survived      Pclass         Age       SibSp  \\\n",
       "count   891.000000  891.000000  891.000000  714.000000  891.000000   \n",
       "mean    446.000000    0.383838    2.308642   29.699118    0.523008   \n",
       "std     257.353842    0.486592    0.836071   14.526497    1.102743   \n",
       "min       1.000000    0.000000    1.000000    0.420000    0.000000   \n",
       "25%     223.500000    0.000000    2.000000   20.125000    0.000000   \n",
       "50%     446.000000    0.000000    3.000000   28.000000    0.000000   \n",
       "75%     668.500000    1.000000    3.000000   38.000000    1.000000   \n",
       "max     891.000000    1.000000    3.000000   80.000000    8.000000   \n",
       "\n",
       "            Parch        Fare  \n",
       "count  891.000000  891.000000  \n",
       "mean     0.381594   32.204208  \n",
       "std      0.806057   49.693429  \n",
       "min      0.000000    0.000000  \n",
       "25%      0.000000    7.910400  \n",
       "50%      0.000000   14.454200  \n",
       "75%      0.000000   31.000000  \n",
       "max      6.000000  512.329200  "
      ]
     },
     "execution_count": 6,
     "metadata": {},
     "output_type": "execute_result"
    }
   ],
   "source": [
    "#描述统计信息\n",
    "df.describe()\n",
    "#此外还包括各种统计函数与非统计计算的方法，请自行查阅"
   ]
  },
  {
   "cell_type": "markdown",
   "id": "e07b3370",
   "metadata": {
    "papermill": {
     "duration": 0.006801,
     "end_time": "2024-03-15T06:46:16.099575",
     "exception": false,
     "start_time": "2024-03-15T06:46:16.092774",
     "status": "completed"
    },
    "tags": []
   },
   "source": [
    "# pandas 数据选取:1.如何选取特定行，特定列，筛选出满足条件的行或者列，锁定特定的元素 \n",
    "## 按行选择 df[...],按索引选择df.loc[<行表达式>, <列表达式>] 按数字选择 df.iloc[]\n",
    "## 切片选择行 df[5:10] ,筛选数据 df[表达式]"
   ]
  },
  {
   "cell_type": "code",
   "execution_count": 7,
   "id": "b8bb15e7",
   "metadata": {
    "execution": {
     "iopub.execute_input": "2024-03-15T06:46:16.115238Z",
     "iopub.status.busy": "2024-03-15T06:46:16.114788Z",
     "iopub.status.idle": "2024-03-15T06:46:16.143839Z",
     "shell.execute_reply": "2024-03-15T06:46:16.142736Z"
    },
    "papermill": {
     "duration": 0.039749,
     "end_time": "2024-03-15T06:46:16.146247",
     "exception": false,
     "start_time": "2024-03-15T06:46:16.106498",
     "status": "completed"
    },
    "tags": []
   },
   "outputs": [
    {
     "data": {
      "text/html": [
       "<div>\n",
       "<style scoped>\n",
       "    .dataframe tbody tr th:only-of-type {\n",
       "        vertical-align: middle;\n",
       "    }\n",
       "\n",
       "    .dataframe tbody tr th {\n",
       "        vertical-align: top;\n",
       "    }\n",
       "\n",
       "    .dataframe thead th {\n",
       "        text-align: right;\n",
       "    }\n",
       "</style>\n",
       "<table border=\"1\" class=\"dataframe\">\n",
       "  <thead>\n",
       "    <tr style=\"text-align: right;\">\n",
       "      <th></th>\n",
       "      <th>Sex</th>\n",
       "      <th>Name</th>\n",
       "      <th>Age</th>\n",
       "    </tr>\n",
       "  </thead>\n",
       "  <tbody>\n",
       "    <tr>\n",
       "      <th>6</th>\n",
       "      <td>male</td>\n",
       "      <td>McCarthy, Mr. Timothy J</td>\n",
       "      <td>54.0</td>\n",
       "    </tr>\n",
       "    <tr>\n",
       "      <th>11</th>\n",
       "      <td>female</td>\n",
       "      <td>Bonnell, Miss. Elizabeth</td>\n",
       "      <td>58.0</td>\n",
       "    </tr>\n",
       "    <tr>\n",
       "      <th>15</th>\n",
       "      <td>female</td>\n",
       "      <td>Hewlett, Mrs. (Mary D Kingcome)</td>\n",
       "      <td>55.0</td>\n",
       "    </tr>\n",
       "    <tr>\n",
       "      <th>33</th>\n",
       "      <td>male</td>\n",
       "      <td>Wheadon, Mr. Edward H</td>\n",
       "      <td>66.0</td>\n",
       "    </tr>\n",
       "    <tr>\n",
       "      <th>54</th>\n",
       "      <td>male</td>\n",
       "      <td>Ostby, Mr. Engelhart Cornelius</td>\n",
       "      <td>65.0</td>\n",
       "    </tr>\n",
       "    <tr>\n",
       "      <th>...</th>\n",
       "      <td>...</td>\n",
       "      <td>...</td>\n",
       "      <td>...</td>\n",
       "    </tr>\n",
       "    <tr>\n",
       "      <th>820</th>\n",
       "      <td>female</td>\n",
       "      <td>Hays, Mrs. Charles Melville (Clara Jennings Gr...</td>\n",
       "      <td>52.0</td>\n",
       "    </tr>\n",
       "    <tr>\n",
       "      <th>829</th>\n",
       "      <td>female</td>\n",
       "      <td>Stone, Mrs. George Nelson (Martha Evelyn)</td>\n",
       "      <td>62.0</td>\n",
       "    </tr>\n",
       "    <tr>\n",
       "      <th>851</th>\n",
       "      <td>male</td>\n",
       "      <td>Svensson, Mr. Johan</td>\n",
       "      <td>74.0</td>\n",
       "    </tr>\n",
       "    <tr>\n",
       "      <th>857</th>\n",
       "      <td>male</td>\n",
       "      <td>Daly, Mr. Peter Denis</td>\n",
       "      <td>51.0</td>\n",
       "    </tr>\n",
       "    <tr>\n",
       "      <th>879</th>\n",
       "      <td>female</td>\n",
       "      <td>Potter, Mrs. Thomas Jr (Lily Alexenia Wilson)</td>\n",
       "      <td>56.0</td>\n",
       "    </tr>\n",
       "  </tbody>\n",
       "</table>\n",
       "<p>64 rows × 3 columns</p>\n",
       "</div>"
      ],
      "text/plain": [
       "        Sex                                               Name   Age\n",
       "6      male                            McCarthy, Mr. Timothy J  54.0\n",
       "11   female                           Bonnell, Miss. Elizabeth  58.0\n",
       "15   female                   Hewlett, Mrs. (Mary D Kingcome)   55.0\n",
       "33     male                              Wheadon, Mr. Edward H  66.0\n",
       "54     male                     Ostby, Mr. Engelhart Cornelius  65.0\n",
       "..      ...                                                ...   ...\n",
       "820  female  Hays, Mrs. Charles Melville (Clara Jennings Gr...  52.0\n",
       "829  female          Stone, Mrs. George Nelson (Martha Evelyn)  62.0\n",
       "851    male                                Svensson, Mr. Johan  74.0\n",
       "857    male                             Daly, Mr. Peter Denis   51.0\n",
       "879  female      Potter, Mrs. Thomas Jr (Lily Alexenia Wilson)  56.0\n",
       "\n",
       "[64 rows x 3 columns]"
      ]
     },
     "execution_count": 7,
     "metadata": {},
     "output_type": "execute_result"
    }
   ],
   "source": [
    "#按行选择前三行\n",
    "#df[0:3]\n",
    "#按索引选择前三行\n",
    "df.loc[0:2,:]\n",
    "#按索引选择偶数行，并只需要PassengerId与Sex的列\n",
    "df.loc[::2,['PassengerId','Sex']]\n",
    "#选择列的方法\n",
    "df[['Name','PassengerId']]\n",
    "#筛选出满足年龄＞50的行\n",
    "df[df['Age']>50]\n",
    "#筛选出年龄＞50,且存活的女性的行\n",
    "df[(df['Age']>50) & (df['Survived']==1) & (df['Sex'] == 'female')]#逻辑运算符 & | ~\n",
    "#与loc结合\n",
    "df.loc[df['Age']>50,['Sex','Name','Age']]"
   ]
  },
  {
   "cell_type": "markdown",
   "id": "f10e8d60",
   "metadata": {
    "papermill": {
     "duration": 0.007148,
     "end_time": "2024-03-15T06:46:16.161009",
     "exception": false,
     "start_time": "2024-03-15T06:46:16.153861",
     "status": "completed"
    },
    "tags": []
   },
   "source": [
    "# Pandas 数据类型转换  \n",
    "## 对所有字段指定统一类型\n",
    "df = pd.DataFrame(data, dtype='float32')  \n",
    "## 对每个字段分别指定\n",
    "df = pd.read_excel(data, dtype={'team': 'string', 'Q1': 'int32'}\n",
    "###  astype()是最常见也是最通用的数据类型转换方法，一般我们使用astype()操作数据转换就可以了。  "
   ]
  },
  {
   "cell_type": "code",
   "execution_count": 8,
   "id": "63abe715",
   "metadata": {
    "execution": {
     "iopub.execute_input": "2024-03-15T06:46:16.178120Z",
     "iopub.status.busy": "2024-03-15T06:46:16.177475Z",
     "iopub.status.idle": "2024-03-15T06:46:16.186818Z",
     "shell.execute_reply": "2024-03-15T06:46:16.185768Z"
    },
    "papermill": {
     "duration": 0.020721,
     "end_time": "2024-03-15T06:46:16.189374",
     "exception": false,
     "start_time": "2024-03-15T06:46:16.168653",
     "status": "completed"
    },
    "tags": []
   },
   "outputs": [
    {
     "data": {
      "text/plain": [
       "0      22\n",
       "1      38\n",
       "2      26\n",
       "3      35\n",
       "4      35\n",
       "       ..\n",
       "886    27\n",
       "887    19\n",
       "888    29\n",
       "889    26\n",
       "890    32\n",
       "Name: Age, Length: 891, dtype: int32"
      ]
     },
     "execution_count": 8,
     "metadata": {},
     "output_type": "execute_result"
    }
   ],
   "source": [
    "df['Age'] = df['Age'].fillna(df['Age'].mean())#或 df['Age'].fillna(df['Age'].mean(),copy = True)\n",
    "df['Age'].astype('int32')"
   ]
  },
  {
   "cell_type": "markdown",
   "id": "8612e323",
   "metadata": {
    "papermill": {
     "duration": 0.007331,
     "end_time": "2024-03-15T06:46:16.204280",
     "exception": false,
     "start_time": "2024-03-15T06:46:16.196949",
     "status": "completed"
    },
    "tags": []
   },
   "source": [
    "# Pandas 数据排序  \n",
    "df.sort_index()\n",
    "df.sort_values()\n"
   ]
  },
  {
   "cell_type": "code",
   "execution_count": 9,
   "id": "8b63f100",
   "metadata": {
    "execution": {
     "iopub.execute_input": "2024-03-15T06:46:16.222156Z",
     "iopub.status.busy": "2024-03-15T06:46:16.221759Z",
     "iopub.status.idle": "2024-03-15T06:46:16.246939Z",
     "shell.execute_reply": "2024-03-15T06:46:16.245861Z"
    },
    "papermill": {
     "duration": 0.036706,
     "end_time": "2024-03-15T06:46:16.249414",
     "exception": false,
     "start_time": "2024-03-15T06:46:16.212708",
     "status": "completed"
    },
    "tags": []
   },
   "outputs": [
    {
     "data": {
      "text/html": [
       "<div>\n",
       "<style scoped>\n",
       "    .dataframe tbody tr th:only-of-type {\n",
       "        vertical-align: middle;\n",
       "    }\n",
       "\n",
       "    .dataframe tbody tr th {\n",
       "        vertical-align: top;\n",
       "    }\n",
       "\n",
       "    .dataframe thead th {\n",
       "        text-align: right;\n",
       "    }\n",
       "</style>\n",
       "<table border=\"1\" class=\"dataframe\">\n",
       "  <thead>\n",
       "    <tr style=\"text-align: right;\">\n",
       "      <th></th>\n",
       "      <th>b</th>\n",
       "    </tr>\n",
       "  </thead>\n",
       "  <tbody>\n",
       "    <tr>\n",
       "      <th>0</th>\n",
       "      <td>3</td>\n",
       "    </tr>\n",
       "    <tr>\n",
       "      <th>1</th>\n",
       "      <td>3</td>\n",
       "    </tr>\n",
       "    <tr>\n",
       "      <th>2</th>\n",
       "      <td>3</td>\n",
       "    </tr>\n",
       "    <tr>\n",
       "      <th>3</th>\n",
       "      <td>3</td>\n",
       "    </tr>\n",
       "    <tr>\n",
       "      <th>4</th>\n",
       "      <td>3</td>\n",
       "    </tr>\n",
       "  </tbody>\n",
       "</table>\n",
       "</div>"
      ],
      "text/plain": [
       "   b\n",
       "0  3\n",
       "1  3\n",
       "2  3\n",
       "3  3\n",
       "4  3"
      ]
     },
     "execution_count": 9,
     "metadata": {},
     "output_type": "execute_result"
    }
   ],
   "source": [
    "#修改值与loc配合\n",
    "df.loc[df['Age']>50,['Age']] = 50\n",
    "df[df['Age'] >=50]\n",
    "#修改列名 df.rename(columns = {})\n",
    "df.rename(columns = {'Name':'name'})\n",
    "#修改索引 df.rename(index = {})\n",
    "df.rename(index = {0:'a',2:'b'})\n",
    "#增加列\n",
    "df['real_age'] = df['Age']-1\n",
    "#增加行\n",
    "df.loc[len(df),:] = [891,1,2,'mike','male',99,1,2,3,40,'C1','S',22]\n",
    "df.tail()\n",
    "#追加合并\n",
    "df_6 = pd.DataFrame({'a':[1,2,3,4,5],'b':[3,3,3,3,3]})\n",
    "df_7 = pd.DataFrame({'a':[2,3],'b':[3,3]})\n",
    "pd.concat([df_6,df_7])\n",
    "#删除的两种方法，pop与反选法 pop在series中删除索引所选的值，这DataFrame中删除column，若要删除列则要用drop\n",
    "df_6.drop([2,3],axis=0,inplace = False)\n",
    "df_6.drop('a',axis=1)"
   ]
  },
  {
   "cell_type": "code",
   "execution_count": 10,
   "id": "910d88bc",
   "metadata": {
    "execution": {
     "iopub.execute_input": "2024-03-15T06:46:16.266733Z",
     "iopub.status.busy": "2024-03-15T06:46:16.266321Z",
     "iopub.status.idle": "2024-03-15T06:46:16.271759Z",
     "shell.execute_reply": "2024-03-15T06:46:16.270599Z"
    },
    "papermill": {
     "duration": 0.016701,
     "end_time": "2024-03-15T06:46:16.273965",
     "exception": false,
     "start_time": "2024-03-15T06:46:16.257264",
     "status": "completed"
    },
    "tags": []
   },
   "outputs": [],
   "source": [
    "#删除空值\n",
    "\n",
    "#df.dropna() #一行中有一个缺失值就删除\n",
    "#df.dropna(axis='columns') # 只保留全有值的列\n",
    "#df.dropna(how='all') # 行或列全没值才删除\n",
    "#df.dropna(thresh=2) # 至少有两个空值时才删除\n",
    "#df.dropna(inplace=True) # 删除并使替换生效\n"
   ]
  },
  {
   "cell_type": "markdown",
   "id": "3d8b776b",
   "metadata": {
    "papermill": {
     "duration": 0.007657,
     "end_time": "2024-03-15T06:46:16.289534",
     "exception": false,
     "start_time": "2024-03-15T06:46:16.281877",
     "status": "completed"
    },
    "tags": []
   },
   "source": [
    "# Pandas 分类聚合  \n",
    "> Pandas分组聚合\n",
    "分组聚合非常常见，我们的数据是扁平化的，没有任何分组信息。\n",
    "比如我们一周多次去一家便利店，每次会产生一条购买记录，便利店要\n",
    "想统计每个人这周的购买情况，就需要以人来进行分组，然后将每个人\n",
    "的所有金额相加\n"
   ]
  },
  {
   "cell_type": "markdown",
   "id": "d8ea86ac",
   "metadata": {
    "papermill": {
     "duration": 0.00747,
     "end_time": "2024-03-15T06:46:16.304867",
     "exception": false,
     "start_time": "2024-03-15T06:46:16.297397",
     "status": "completed"
    },
    "tags": []
   },
   "source": [
    "# Pandas 数据分箱\n",
    "> 数据分箱（data binning，也称为离散组合或数据分桶）是一种数据\n",
    "预处理技术，它将原始数据分成几个小区间，即bin（小箱子），是一\n",
    "种量子化的形式。数据分箱可以最大限度减小观察误差的影响。落入给\n",
    "定区间的原始数据值被代表该区间的值（通常是中心值）替换。然后将\n",
    "其替换为针对该区间计算的常规值。这具有平滑输入数据的作用，并且\n",
    "在小数据集的情况下还可以减少过拟合。\n",
    "Pandas主要基于以两个函数实现连续数据的离散化处理。\n",
    "pandas.cut：根据指定分界点对连续数据进行分箱处理。\n",
    "pandas.qcut：根据指定区间数量对连续数据进行等宽分箱处理。\n",
    "所谓等宽，指的是每个区间中的数据量是相同的"
   ]
  },
  {
   "cell_type": "markdown",
   "id": "eacb527f",
   "metadata": {
    "papermill": {
     "duration": 0.007827,
     "end_time": "2024-03-15T06:46:16.320437",
     "exception": false,
     "start_time": "2024-03-15T06:46:16.312610",
     "status": "completed"
    },
    "tags": []
   },
   "source": [
    "# Python seaborn  \n",
    "> Seaborn 是基于 Python 且非常受欢迎的图形可视化库，在 Matplotlib 的基础上，进行了更高级的封装，使得作图更加方便快捷。即便是没有什么基础的人，也能通过极简的代码，做出具有分析价值而又十分美观的图形。"
   ]
  },
  {
   "cell_type": "code",
   "execution_count": null,
   "id": "d7dc57c3",
   "metadata": {
    "papermill": {
     "duration": 0.00756,
     "end_time": "2024-03-15T06:46:16.335773",
     "exception": false,
     "start_time": "2024-03-15T06:46:16.328213",
     "status": "completed"
    },
    "tags": []
   },
   "outputs": [],
   "source": []
  }
 ],
 "metadata": {
  "kaggle": {
   "accelerator": "none",
   "dataSources": [
    {
     "datasetId": 1247358,
     "sourceId": 2080558,
     "sourceType": "datasetVersion"
    }
   ],
   "dockerImageVersionId": 30664,
   "isGpuEnabled": false,
   "isInternetEnabled": false,
   "language": "python",
   "sourceType": "notebook"
  },
  "kernelspec": {
   "display_name": "Python 3",
   "language": "python",
   "name": "python3"
  },
  "language_info": {
   "codemirror_mode": {
    "name": "ipython",
    "version": 3
   },
   "file_extension": ".py",
   "mimetype": "text/x-python",
   "name": "python",
   "nbconvert_exporter": "python",
   "pygments_lexer": "ipython3",
   "version": "3.10.13"
  },
  "papermill": {
   "default_parameters": {},
   "duration": 4.895829,
   "end_time": "2024-03-15T06:46:16.762749",
   "environment_variables": {},
   "exception": null,
   "input_path": "__notebook__.ipynb",
   "output_path": "__notebook__.ipynb",
   "parameters": {},
   "start_time": "2024-03-15T06:46:11.866920",
   "version": "2.5.0"
  }
 },
 "nbformat": 4,
 "nbformat_minor": 5
}
